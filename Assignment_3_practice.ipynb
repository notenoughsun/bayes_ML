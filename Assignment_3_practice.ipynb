{
  "nbformat": 4,
  "nbformat_minor": 0,
  "metadata": {
    "accelerator": "GPU",
    "colab": {
      "name": "Assignment_3_practice.ipynb",
      "provenance": [],
      "toc_visible": true,
      "include_colab_link": true
    },
    "kernelspec": {
      "display_name": "Python 3",
      "language": "python",
      "name": "python3"
    },
    "language_info": {
      "codemirror_mode": {
        "name": "ipython",
        "version": 3
      },
      "file_extension": ".py",
      "mimetype": "text/x-python",
      "name": "python",
      "nbconvert_exporter": "python",
      "pygments_lexer": "ipython3",
      "version": "3.6.9"
    }
  },
  "cells": [
    {
      "cell_type": "markdown",
      "metadata": {
        "id": "view-in-github",
        "colab_type": "text"
      },
      "source": [
        "<a href=\"https://colab.research.google.com/github/notenoughsun/bayes_ML/blob/master/Assignment_3_practice.ipynb\" target=\"_parent\"><img src=\"https://colab.research.google.com/assets/colab-badge.svg\" alt=\"Open In Colab\"/></a>"
      ]
    },
    {
      "cell_type": "markdown",
      "metadata": {
        "id": "lDSkHabflm85"
      },
      "source": [
        "# MA060129, Bayesian Machine Learning Homework 3: Practical Problems\n",
        "\n",
        "#### List of problems:\n",
        "[Task 1](#Task1) 30 points\n",
        "\n",
        "[Task 2](#Task2) 15 points\n",
        "\n",
        "[Task 3](#Task3) 5 points \n",
        "\n",
        "[Task 4](#Task4) 10 points \n",
        "\n",
        "------ Total : 60 points  -------\n",
        "\n",
        "[Bonus](#Bonus) 20 point"
      ]
    },
    {
      "cell_type": "markdown",
      "metadata": {
        "id": "z9n1iGJoxdxx"
      },
      "source": [
        "## Variational Autoencoders\n",
        "\n",
        "VAEs consider two-step generative process by a prior over latent space $p(z)$ and a conditional generative distribution $p_{\\theta}(x|z)$, which is parametrized by a deep neural network (DNN). Our goal is to maximize marginal log-likehood  which is intractable in general case. Therefore, variational inference (VI) framework is considered.\n",
        "\n",
        "\\begin{equation*}\n",
        "    \\begin{aligned}\n",
        "    & \\log p(x) \\geq \\mathcal{L}(x;\\theta;q) = \\mathbb{E}_{z\\sim q(z)}[\\log p_{\\theta}(x|z)] - \\text{KL}[q(z)\\|p(z)],\n",
        "    \\end{aligned}\n",
        "\\end{equation*}\n",
        "\n",
        "where $q(z|x)$ is a variational posterior distribution. Given data distribution $p_e(x) = \\frac1N\\sum_{i=1}^N \\delta_{x_i}(x)$ we aim at maximizing the average marginal log-likelihood. Following the variational auto-encoder architecture amortized inference is proposed by choice of the variational distribution $q_{\\phi}(z|x)$ which is also parametrized by DNN.\n",
        "\n",
        "\\begin{equation*}\n",
        "    \\begin{aligned}\n",
        "    & \\arg\\max\\limits_{\\phi, \\theta}\\mathbb{E}_{x}\\mathcal{L}(x,\\phi,\\theta)=\\arg\\max\\limits_{\\phi, \\theta}\\mathbb{E}_{x}\\mathbb{E}_{z\\sim q(z)}[\\log p_{\\theta}(x|z)] - \\mathbb{E}_x \\text{KL}[q_{\\phi}(z|x)\\|p(z)].\n",
        "    \\end{aligned}\n",
        "\\end{equation*}\n",
        "\n",
        "To evaluate the performance of the VAE approach, we will estimate a negative log likelihood (NLL) on the test set. NLL is calculated by importance sampling method:\n",
        "\\begin{equation*}\n",
        "   - \\log p(x) \\approx - \\log \\frac{1}{K} \n",
        "   \\sum_{i = 1}^K \\frac{p_\\theta(x | z_i) p(z_i)}{q_\\phi(z_i | x)},\\,\\,\\,\\,z_i \\sim q_\\phi(z | x).     \n",
        "\\end{equation*}"
      ]
    },
    {
      "cell_type": "markdown",
      "metadata": {
        "id": "wfjN-b-Ylm86"
      },
      "source": [
        "### References\n",
        "1. Auto-Encoding Variational Bayes https://arxiv.org/pdf/1312.6114.pdf\n",
        "2. Beta-VAE https://pdfs.semanticscholar.org/a902/26c41b79f8b06007609f39f82757073641e2.pdf\n",
        "3. Importance Weighted Autoencoders https://arxiv.org/pdf/1509.00519.pdf "
      ]
    },
    {
      "cell_type": "markdown",
      "metadata": {
        "id": "ab6sPNPalm86"
      },
      "source": [
        "## VAE\n",
        "Below you can find emty class for VAE model. It contians methods, which will help you to make all the tasks in this aasignment. You can use code from the VAE seminar to implement the methods, if you use other sources, provide the reference, please."
      ]
    },
    {
      "cell_type": "code",
      "metadata": {
        "id": "wovzCNIRXFbT"
      },
      "source": [
        "import math \n",
        "def log_gaussian(x, mean, logvar, dim=None):\n",
        "    log_normal = -0.5 * (math.log(2.0*math.pi) + logvar + \n",
        "                         torch.pow(x - mean, 2) / (logvar.exp()+1e-5))\n",
        "    return log_normal.sum(dim)"
      ],
      "execution_count": null,
      "outputs": []
    },
    {
      "cell_type": "code",
      "metadata": {
        "id": "iVers8V3lm87"
      },
      "source": [
        "import torch\n",
        "import torch.nn as nn\n",
        "\n",
        "class VAE(nn.Module):\n",
        "    def __init__(self, hid_dim):\n",
        "        \"\"\"\n",
        "        z_dim: int, dimention of the latent space\n",
        "        x_dim: int, input image will have size (3, x_dim, x_dim)\n",
        "        \"\"\"\n",
        "        super(VAE, self).__init__()\n",
        "        self.hid_dim = hid_dim\n",
        "        # Initialize Encoder and Decoder networks\n",
        "\n",
        "       \n",
        "        self.init_params()\n",
        "\n",
        "    def init_params(self):\n",
        "        for m in self.modules():\n",
        "            if isinstance(m, nn.Linear) or isinstance(m, nn.Conv2d) or isinstance(m, nn.ConvTranspose2d):\n",
        "                nn.init.xavier_normal_(m.weight.data)\n",
        "        \n",
        "    def q_z(self, x):\n",
        "        \"\"\"\n",
        "        VARIATIONAL POSTERIOR\n",
        "        :param x: input image\n",
        "        :return: parameters of q(z|x), (MB, hid_dim)\n",
        "        \"\"\"\n",
        "        ## YOUR CODE HERE\n",
        "\n",
        "    def p_x(self, z):\n",
        "        \"\"\"\n",
        "        GENERATIVE DISTRIBUTION\n",
        "        :param z: latent vector          (MB, hid_dim)\n",
        "        :return: parameters of p(x|z)    (MB, inp_dim)\n",
        "        \"\"\"\n",
        "        ## YOUR CODE HERE\n",
        "\n",
        "    def forward(self, x):\n",
        "        \"\"\"\n",
        "        Encoder the image, sample z and decode \n",
        "        :param x: input image\n",
        "        :return: parameters of p(x|z_hat), z_hat, parameters of q(z|x)\n",
        "        \"\"\"\n",
        "        # YOUR CODE HERE\n",
        "        return x_mu, x_logvar, z_sample, z_mu, z_logvar\n",
        "\n",
        "    def log_p_z(self, z):\n",
        "        \"\"\"\n",
        "        Log density of the Prior\n",
        "        :param z: latent vector     (MB, hid_dim)\n",
        "        :return: \\sum_i log p(z_i)  (1, )\n",
        "        \"\"\"\n",
        "        # YOUR CODE HERE\n",
        "\n",
        "    def reconstruct_x(self, x):\n",
        "        x_mean, _, _, _, _ = self.forward(x)\n",
        "        return x_mean\n",
        "\n",
        "    def kl(self, z, z_mean, z_logvar):\n",
        "        \"\"\"\n",
        "        KL-divergence between p(z) and q(z|x)\n",
        "        :param z:                               (MB, hid_dim)\n",
        "        :param z_mean: mean of q(z|x)           (MB, hid_dim)\n",
        "        :param z_logvar: log variance of q(z|x) (MB, hid_dim)\n",
        "        :return: KL                             (MB, )\n",
        "        \"\"\"\n",
        "        # YOUR CODE HERE\n",
        "\n",
        "    def calculate_loss(self, x, beta=1.):\n",
        "        \"\"\"\n",
        "        Given the input batch, compute the negative ELBO \n",
        "        :param x:   (MB, inp_dim)\n",
        "        :param beta: Float\n",
        "        :return: nll + beta * KL  (MB, ) or (1, )\n",
        "        \"\"\"\n",
        "        # YOUR CODE HERE\n",
        "\n",
        "    def calculate_nll(self, X, K=100):\n",
        "        \"\"\"\n",
        "        Estimate NLL by importance sampling \n",
        "        (see VAE seminar, but be carefull with dimentions)\n",
        "        :param X: dataset, (N, 3, w, h)\n",
        "        :param samples: Samples per observation\n",
        "        :return: IS estimate\n",
        "        \"\"\"\n",
        "        # YOUR CODE HERE       \n",
        "\n",
        "    def generate_x(self, N=25):\n",
        "        \"\"\"\n",
        "        Sample, using you VAE: sample z from prior and decode it \n",
        "        :param N: number of samples\n",
        "        :return: X (N, inp_size)\n",
        "        \"\"\"\n",
        "        # YOUR CODE HERE\n",
        "\n",
        "    @staticmethod\n",
        "    def reparametrize(mu, logvar):\n",
        "        std = logvar.mul(0.5).exp_()\n",
        "        eps = torch.FloatTensor(std.size()).normal_().to(mu.device)\n",
        "        return eps.mul(std).add_(mu)"
      ],
      "execution_count": null,
      "outputs": []
    },
    {
      "cell_type": "code",
      "metadata": {
        "id": "P6jA8vnVs_m7"
      },
      "source": [
        "\n"
      ],
      "execution_count": null,
      "outputs": []
    },
    {
      "cell_type": "markdown",
      "metadata": {
        "id": "A6kHJyaLlm8_"
      },
      "source": [
        "## Generalization\n",
        "\n",
        "The size of the Dataset, that is used to train generative model is often exponentially small compared to the support of density $p(x)$. Thus, it is important to be able to evaluate genralization abilities of the learned model.\n",
        "\n",
        "In this assignment you will be asked to evaluate generalization ability of the VAE, using the approach discussed in https://arxiv.org/abs/1811.03259. \n",
        "\n",
        "Authors propose to study the generalization ability of the generative model, using **probing features** - functions which map image to a value. E.g., number of objects on the images.\n",
        "\n",
        "\n",
        "We will use the dataset with dots, which can be downloaded [here](https://drive.google.com/open?id=1CsDMOIGEsD1l3BLhuQDfEfEmLEb83wMz). "
      ]
    },
    {
      "cell_type": "markdown",
      "metadata": {
        "id": "qUnt_E1ulm8_"
      },
      "source": [
        "---\n",
        "<a id='Task1'></a>\n",
        "**Task 1. [30 pts]: Training**\n",
        "* Train your VAE on the **subset** of images contating only 3 dots (use batch 0-5 for training and leave 6 and 7 for validation). \n",
        "* Plot ELBO vs Iteration, KL vs Iteration and NLL vs Iteration during training.\n",
        "* Plot 10 pairs of `image`-`reconstruction` for 10 random images from the validation dataset \n",
        "* Plot 10 samples from the model\n",
        "\n",
        "Note, that the task is considered completed only if your model produces reasonable **reconstructions** and **samples**. By resonable I mean:\n",
        "- Reconstructions and true images have the same number of dots of similar colors\n",
        "- Samples have dots of different colors on them (they may not have perfect shapes)"
      ]
    },
    {
      "cell_type": "markdown",
      "metadata": {
        "id": "G8i6ROu2xdzu"
      },
      "source": [
        "---\n",
        "Some hints, that might be usefull (you do not have to use all of them):\n",
        "- Use CNNs for encoder and decoder\n",
        "- Use gaussian distribution for $p(x|z)$\n",
        "- **Fix** variance of the $p(x|z)$ and train only mean value (aka NLL is MSE loss)\n",
        "- Scale pixels of the input (dataset) and output (generated) images to [-1,1] range\n",
        "- Use `Upsample` + `Conv` instead of `ConvTranspose` in the decoder\n",
        "- Use $\\beta$-VAE objective instead of simple ELBO:\n",
        "    $$ -NLL + \\beta \\text{KL}(q(z|x)\\|p(z))$$\n",
        "$\\beta$ is a hyperparameter. You can either fix it, or use so-called $\\beta$-annealing. In the latter case, we gradually increase the value of $\\beta$ from 0 during training.\n",
        "- If reconstructions look nice but samples are bad, you probably need to put more weight on the KL-term  (larger $\\beta$)\n",
        "\n",
        "+ other standard DL tricks, e.g. lr annealing, early stopping, augmentations, etc.\n",
        "---"
      ]
    },
    {
      "cell_type": "code",
      "metadata": {
        "id": "mTJbK5k3xdzx"
      },
      "source": [
        "# Load the data, define train and validation datasets"
      ],
      "execution_count": null,
      "outputs": []
    },
    {
      "cell_type": "code",
      "metadata": {
        "id": "QOi2HQ3qlm9A"
      },
      "source": [
        "# Training VAE (do not forget to save checkpoint, \n",
        "# and send it along with HW solution)"
      ],
      "execution_count": null,
      "outputs": []
    },
    {
      "cell_type": "code",
      "metadata": {
        "id": "eyUSh0i9xd0U"
      },
      "source": [
        "# Plot reconstructions"
      ],
      "execution_count": null,
      "outputs": []
    },
    {
      "cell_type": "markdown",
      "metadata": {
        "id": "hH_gexbLxd0k"
      },
      "source": [
        "---\n",
        "<a id='Task2'></a>\n",
        "**Task 2. [15 pts]: Evaluation**\n",
        "\n",
        "Calculate NLL on a validation set, contating only 3 dots. "
      ]
    },
    {
      "cell_type": "code",
      "metadata": {
        "id": "KZ0z4CKZlm9C"
      },
      "source": [
        "# your code here"
      ],
      "execution_count": null,
      "outputs": []
    },
    {
      "cell_type": "markdown",
      "metadata": {
        "id": "IdOcQIuFxd0y"
      },
      "source": [
        "---\n",
        "<a id='Task2'></a>\n",
        "**Task 3. [5 pts]: Generalization [1]**\n",
        "\n",
        "* Sample 25 images from the VAE and draw them on the 5 $\\times$ 5 grid. \n",
        "* What can you say abuout generalization ability of the model based the results"
      ]
    },
    {
      "cell_type": "code",
      "metadata": {
        "id": "j_RTeerzlm9H"
      },
      "source": [
        "# Sampling\n",
        "\n",
        "# your code here"
      ],
      "execution_count": null,
      "outputs": []
    },
    {
      "cell_type": "markdown",
      "metadata": {
        "id": "2cWTmTCyxd06"
      },
      "source": [
        "`comment`"
      ]
    },
    {
      "cell_type": "markdown",
      "metadata": {
        "id": "CQ4lWxtexd09"
      },
      "source": [
        "--- \n",
        "<a id='Task4'></a>\n",
        "**Task 4. [10 pts]: Generalization [2]** \n",
        "\n",
        "* Define 2 new validation sets: containing only 2 dots (batches 6 and 7) and only 4 dots (batches 6-7) \n",
        "* Plot reconstruction of 10 random from both dataset\n",
        "* Compute NLL of your VAE on these datasets\n",
        "* What can you say abuout generalization ability of the model based the results\n"
      ]
    },
    {
      "cell_type": "code",
      "metadata": {
        "id": "bfUUDn_5lm9F"
      },
      "source": [
        "# NLL for 5 dots per image\n",
        "\n",
        "# your code here"
      ],
      "execution_count": null,
      "outputs": []
    },
    {
      "cell_type": "code",
      "metadata": {
        "id": "R6L1slpalm9J"
      },
      "source": [
        "`comment`"
      ],
      "execution_count": null,
      "outputs": []
    },
    {
      "cell_type": "markdown",
      "metadata": {
        "id": "ginyu4S9lm9M"
      },
      "source": [
        "---\n",
        "<a id='Bonus'></a>\n",
        "## Bonus task [20 pts]\n",
        "\n",
        "Assume that we want to quantify the generalization ability of the model. To do that, we need to accurately compute number of dots on all the generated images.\n",
        "\n",
        "1. Train neural network, which will classify images based on number of dots with high probability (>95%)\n",
        "2. Generate 10'000 images from you VAE\n",
        "3. Classify generated images and plot the histogram"
      ]
    },
    {
      "cell_type": "code",
      "metadata": {
        "id": "DUflqQyvlm9M"
      },
      "source": [
        "# your code here"
      ],
      "execution_count": null,
      "outputs": []
    }
  ]
}